{
 "cells": [
  {
   "cell_type": "code",
   "execution_count": 2,
   "id": "02e98442",
   "metadata": {},
   "outputs": [
    {
     "name": "stdout",
     "output_type": "stream",
     "text": [
      "                    timestamp       service  \\\n",
      "0  2025-04-10T23:54:00.869779       Payment   \n",
      "1  2025-04-10T23:54:12.869779  Notification   \n",
      "2  2025-04-10T23:54:18.869779          User   \n",
      "3  2025-04-10T23:54:31.869779  Notification   \n",
      "4  2025-04-10T23:54:32.869779       Payment   \n",
      "\n",
      "                                       endpoint http_method  http_status  \\\n",
      "0                /api/payments/<transaction_id>         GET          404   \n",
      "1     /api/notifications/<notification_id>/read       PATCH          200   \n",
      "2                   /api/users/<user_id>/update       PATCH          500   \n",
      "3                       /api/notifications/send        POST          503   \n",
      "4  /api/payments/<transaction_id>/update_status       PATCH          500   \n",
      "\n",
      "   response_time_ms  error_flag  environment  \\\n",
      "0            194.70        True  multi-cloud   \n",
      "1             91.19       False  on-premises   \n",
      "2            173.99        True  multi-cloud   \n",
      "3            105.42        True        cloud   \n",
      "4            177.85        True  on-premises   \n",
      "\n",
      "                             request_id                              trace_id  \\\n",
      "0  29a35e3b-86e0-424f-98bb-90fc229f3312  a72e8c91-69bd-415b-a222-3920e3e73b41   \n",
      "1  e4c37747-f293-4e7b-985d-5f86f83b14bb  f8ee7945-1f73-466c-9d79-4a327d8a7286   \n",
      "2  72cf0c48-e0a8-4099-a6ee-038341e6d675  d86e2eed-a4aa-42ac-b4ec-721fbc1edab6   \n",
      "3  2a7ff424-bc50-4769-b49d-e15df26c18e2  2b0253a3-f595-415b-bcde-410dbdd81c03   \n",
      "4  6c2fa043-cb3a-402a-aeac-6b224e8ec86d  56500bf2-ef26-45a2-8fb7-28331dd65143   \n",
      "\n",
      "                                span_id  payload_size_bytes  \\\n",
      "0  ea088524-f6c7-45e0-af51-fb5462d49867                1128   \n",
      "1  83435117-f2ab-4918-b272-f84f3fc78749                4640   \n",
      "2  a14cfe96-64da-4b2b-9ec2-bdba3b5f6c1f                 794   \n",
      "3  18925a0f-0eda-4832-9dce-ebf8448db195                 771   \n",
      "4  f8a34083-bea2-4051-9710-a964312c77a2                2125   \n",
      "\n",
      "   cpu_usage_percent  memory_usage_mb log_level               error_message  \\\n",
      "0              42.24           155.94     ERROR               Timeout error   \n",
      "1              44.69           415.76      INFO                         NaN   \n",
      "2              27.49           106.53      WARN               Timeout error   \n",
      "3              88.54            53.09      WARN  Database connection failed   \n",
      "4              81.79           258.45      WARN               Timeout error   \n",
      "\n",
      "          Browser Operating System  \n",
      "0    Edge 100.9.0     Windows 14.1  \n",
      "1    Opera 81.6.6     Windows 10.8  \n",
      "2   Chrome 75.5.1     Android 13.6  \n",
      "3  Firefox 86.7.7       Linux 12.0  \n",
      "4     Edge 96.8.3     Windows 13.9  \n"
     ]
    }
   ],
   "source": [
    "import pandas as pd\n",
    "\n",
    "# Load the dataset (adjust the path as needed)\n",
    "df = pd.read_csv('./synthetic_full_datasetlakh.csv')\n",
    "\n",
    "# Display first few rows to see an overview of the data\n",
    "print(df.head())\n"
   ]
  },
  {
   "cell_type": "code",
   "execution_count": 3,
   "id": "0b4758c4",
   "metadata": {},
   "outputs": [
    {
     "name": "stdout",
     "output_type": "stream",
     "text": [
      "<class 'pandas.core.frame.DataFrame'>\n",
      "RangeIndex: 10000 entries, 0 to 9999\n",
      "Data columns (total 18 columns):\n",
      " #   Column              Non-Null Count  Dtype  \n",
      "---  ------              --------------  -----  \n",
      " 0   timestamp           10000 non-null  object \n",
      " 1   service             10000 non-null  object \n",
      " 2   endpoint            10000 non-null  object \n",
      " 3   http_method         10000 non-null  object \n",
      " 4   http_status         10000 non-null  int64  \n",
      " 5   response_time_ms    10000 non-null  float64\n",
      " 6   error_flag          10000 non-null  bool   \n",
      " 7   environment         10000 non-null  object \n",
      " 8   request_id          10000 non-null  object \n",
      " 9   trace_id            10000 non-null  object \n",
      " 10  span_id             10000 non-null  object \n",
      " 11  payload_size_bytes  10000 non-null  int64  \n",
      " 12  cpu_usage_percent   10000 non-null  float64\n",
      " 13  memory_usage_mb     10000 non-null  float64\n",
      " 14  log_level           10000 non-null  object \n",
      " 15  error_message       6126 non-null   object \n",
      " 16  Browser             10000 non-null  object \n",
      " 17  Operating System    10000 non-null  object \n",
      "dtypes: bool(1), float64(3), int64(2), object(12)\n",
      "memory usage: 1.3+ MB\n",
      "None\n",
      "timestamp                0\n",
      "service                  0\n",
      "endpoint                 0\n",
      "http_method              0\n",
      "http_status              0\n",
      "response_time_ms         0\n",
      "error_flag               0\n",
      "environment              0\n",
      "request_id               0\n",
      "trace_id                 0\n",
      "span_id                  0\n",
      "payload_size_bytes       0\n",
      "cpu_usage_percent        0\n",
      "memory_usage_mb          0\n",
      "log_level                0\n",
      "error_message         3874\n",
      "Browser                  0\n",
      "Operating System         0\n",
      "dtype: int64\n"
     ]
    }
   ],
   "source": [
    "# Display DataFrame information and check data types\n",
    "print(df.info())\n",
    "\n",
    "# Check for missing values in each column\n",
    "print(df.isnull().sum())\n"
   ]
  },
  {
   "cell_type": "code",
   "execution_count": 5,
   "id": "41f487e3",
   "metadata": {},
   "outputs": [],
   "source": [
    "# Example: Look at unique values in a 'status' or 'status_code' column:\n",
    "if 'status' in df.columns:\n",
    "    print(df['status'].unique())\n",
    "\n",
    "if 'status_code' in df.columns:\n",
    "    print(df['status_code'].unique())\n"
   ]
  }
 ],
 "metadata": {
  "kernelspec": {
   "display_name": "base",
   "language": "python",
   "name": "python3"
  },
  "language_info": {
   "codemirror_mode": {
    "name": "ipython",
    "version": 3
   },
   "file_extension": ".py",
   "mimetype": "text/x-python",
   "name": "python",
   "nbconvert_exporter": "python",
   "pygments_lexer": "ipython3",
   "version": "3.12.3"
  }
 },
 "nbformat": 4,
 "nbformat_minor": 5
}
